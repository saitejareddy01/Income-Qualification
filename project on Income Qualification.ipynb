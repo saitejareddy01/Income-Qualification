{
 "cells": [
  {
   "cell_type": "code",
   "execution_count": 117,
   "id": "6bc49233",
   "metadata": {},
   "outputs": [],
   "source": [
    "import numpy as np\n",
    "import pandas as pd\n",
    "import matplotlib.pyplot as plt\n",
    "import seaborn as sns\n",
    "%matplotlib inline\n",
    "import warnings\n",
    "warnings.filterwarnings('ignore')\n"
   ]
  },
  {
   "cell_type": "code",
   "execution_count": 118,
   "id": "4cb399f1",
   "metadata": {},
   "outputs": [],
   "source": [
    "train=pd.read_csv('train.csv')\n",
    "test=pd.read_csv('test.csv')"
   ]
  },
  {
   "cell_type": "code",
   "execution_count": 119,
   "id": "72795c35",
   "metadata": {},
   "outputs": [
    {
     "name": "stdout",
     "output_type": "stream",
     "text": [
      "Shape of train dataset is{}  (9557, 143)\n",
      "Shape of test datatset is{} (23856, 142)\n"
     ]
    }
   ],
   "source": [
    "print('Shape of train dataset is{} ',format(train.shape))\n",
    "print('Shape of test datatset is{}',format(test.shape))"
   ]
  },
  {
   "cell_type": "code",
   "execution_count": 120,
   "id": "e146342f",
   "metadata": {},
   "outputs": [
    {
     "name": "stdout",
     "output_type": "stream",
     "text": [
      "Our Traget Variable is Target \n"
     ]
    }
   ],
   "source": [
    "#Identifying target variable\n",
    "for i in train.columns:\n",
    "    if i not in test.columns:\n",
    "        print(\"Our Traget Variable is {} \".format(i))"
   ]
  },
  {
   "cell_type": "code",
   "execution_count": 121,
   "id": "c994cc42",
   "metadata": {},
   "outputs": [
    {
     "name": "stdout",
     "output_type": "stream",
     "text": [
      "int64      130\n",
      "float64      8\n",
      "object       5\n",
      "dtype: int64\n"
     ]
    }
   ],
   "source": [
    "#Understand the datatype\n",
    "print(train.dtypes.value_counts())"
   ]
  },
  {
   "cell_type": "code",
   "execution_count": 122,
   "id": "f03e0548",
   "metadata": {},
   "outputs": [
    {
     "name": "stdout",
     "output_type": "stream",
     "text": [
      "<class 'pandas.core.frame.DataFrame'>\n",
      "RangeIndex: 9557 entries, 0 to 9556\n",
      "Columns: 143 entries, Id to Target\n",
      "dtypes: float64(8), int64(130), object(5)\n",
      "memory usage: 10.4+ MB\n",
      "None\n"
     ]
    }
   ],
   "source": [
    "print(train.info())"
   ]
  },
  {
   "cell_type": "code",
   "execution_count": 123,
   "id": "b9f3b283",
   "metadata": {
    "scrolled": false
   },
   "outputs": [
    {
     "name": "stdout",
     "output_type": "stream",
     "text": [
      "Id\n",
      "idhogar\n",
      "dependency\n",
      "edjefe\n",
      "edjefa\n"
     ]
    }
   ],
   "source": [
    "# exploring each different types of datasets\n",
    "for i in train.columns:\n",
    "    a=train[i].dtype\n",
    "    if a=='object':\n",
    "        print(i)"
   ]
  },
  {
   "cell_type": "markdown",
   "id": "45b1890e",
   "metadata": {},
   "source": [
    " ID = Unique ID\n",
    "idhogar, Household level identifier\n",
    "dependency, Dependency rate, calculated = (number of members of the household younger than 19 or older than 64)/(number of member of household between 19 and 64)\n",
    "edjefe, years of education of male head of household, based on the interaction of escolari (years of education), head of household and gender, yes=1 and no=0\n",
    "edjefa, years of education of female head of household, based on the interaction of escolari (years of education), head of household and gender, yes=1 and no=0"
   ]
  },
  {
   "cell_type": "code",
   "execution_count": 124,
   "id": "80427bce",
   "metadata": {},
   "outputs": [],
   "source": [
    "#lets drop ID variable\n",
    "train.drop([\"Id\",'idhogar'],axis=1,inplace=True)"
   ]
  },
  {
   "cell_type": "code",
   "execution_count": 125,
   "id": "3533078a",
   "metadata": {},
   "outputs": [
    {
     "data": {
      "text/plain": [
       "yes          2192\n",
       "no           1747\n",
       ".5           1497\n",
       "2             730\n",
       "1.5           713\n",
       ".33333334     598\n",
       ".66666669     487\n",
       "8             378\n",
       ".25           260\n",
       "3             236\n",
       "4             100\n",
       ".75            98\n",
       ".2             90\n",
       "1.3333334      84\n",
       ".40000001      84\n",
       "2.5            77\n",
       "5              24\n",
       "1.25           18\n",
       ".80000001      18\n",
       "3.5            18\n",
       "2.25           13\n",
       ".71428573      12\n",
       ".83333331      11\n",
       "1.2            11\n",
       ".22222222      11\n",
       "1.75           11\n",
       ".2857143        9\n",
       ".60000002       8\n",
       "1.6666666       8\n",
       "6               7\n",
       ".16666667       7\n",
       "Name: dependency, dtype: int64"
      ]
     },
     "execution_count": 125,
     "metadata": {},
     "output_type": "execute_result"
    }
   ],
   "source": [
    "train[\"dependency\"].value_counts()"
   ]
  },
  {
   "cell_type": "code",
   "execution_count": 126,
   "id": "e5d74c4d",
   "metadata": {},
   "outputs": [],
   "source": [
    "# lets convert variables into numerical data\n",
    "def map(i):\n",
    "    if i=='yes':\n",
    "        return(float(1))\n",
    "    elif i=='no':\n",
    "        return(float(0))\n",
    "    else:\n",
    "        return(float(i))"
   ]
  },
  {
   "cell_type": "code",
   "execution_count": 127,
   "id": "caf197f0",
   "metadata": {},
   "outputs": [],
   "source": [
    "train['dependency']=train['dependency'].apply(map)"
   ]
  },
  {
   "cell_type": "code",
   "execution_count": 128,
   "id": "4b3e1aeb",
   "metadata": {},
   "outputs": [
    {
     "name": "stdout",
     "output_type": "stream",
     "text": [
      "edjefe\n",
      "edjefa\n"
     ]
    }
   ],
   "source": [
    "for i in train.columns:\n",
    "    a=train[i].dtype\n",
    "    if a=='object':\n",
    "        print(i)"
   ]
  },
  {
   "cell_type": "code",
   "execution_count": 129,
   "id": "7fa2e6cc",
   "metadata": {},
   "outputs": [
    {
     "name": "stdout",
     "output_type": "stream",
     "text": [
      "<class 'pandas.core.frame.DataFrame'>\n",
      "RangeIndex: 9557 entries, 0 to 9556\n",
      "Columns: 141 entries, v2a1 to Target\n",
      "dtypes: float64(9), int64(130), object(2)\n",
      "memory usage: 10.3+ MB\n"
     ]
    }
   ],
   "source": [
    "train.info()"
   ]
  },
  {
   "cell_type": "code",
   "execution_count": 130,
   "id": "ff1f9c0d",
   "metadata": {},
   "outputs": [],
   "source": [
    "train['edjefe']=train['edjefe'].apply(map)\n",
    "train['edjefa']=train['edjefa'].apply(map)"
   ]
  },
  {
   "cell_type": "code",
   "execution_count": 131,
   "id": "02175572",
   "metadata": {},
   "outputs": [
    {
     "name": "stdout",
     "output_type": "stream",
     "text": [
      "<class 'pandas.core.frame.DataFrame'>\n",
      "RangeIndex: 9557 entries, 0 to 9556\n",
      "Columns: 141 entries, v2a1 to Target\n",
      "dtypes: float64(11), int64(130)\n",
      "memory usage: 10.3 MB\n"
     ]
    }
   ],
   "source": [
    "train.info()"
   ]
  },
  {
   "cell_type": "code",
   "execution_count": 132,
   "id": "85c70271",
   "metadata": {},
   "outputs": [
    {
     "name": "stdout",
     "output_type": "stream",
     "text": [
      "Below are columns with variance 0.\n",
      "['elimbasu5']\n"
     ]
    }
   ],
   "source": [
    "#identifying variable with 0 variance\n",
    "var_df=pd.DataFrame(np.var(train,0),columns=['variance'])\n",
    "var_df.sort_values(by='variance').head(15)\n",
    "print('Below are columns with variance 0.')\n",
    "col=list((var_df[var_df['variance']==0]).index)\n",
    "print(col)"
   ]
  },
  {
   "cell_type": "markdown",
   "id": "32566035",
   "metadata": {},
   "source": [
    " Interpretation :From above it is shown that all values of elimbasu5 is same so there is no variablity in dataset therefor we will drop this variable"
   ]
  },
  {
   "cell_type": "code",
   "execution_count": 133,
   "id": "39fcf864",
   "metadata": {},
   "outputs": [
    {
     "name": "stdout",
     "output_type": "stream",
     "text": [
      "Degree of Freedom:- 1\n",
      "chi-square statistic:- 17022.072400560897\n",
      "critical_value: 3.841458820694124\n",
      "p-value: 0.0\n",
      "Significance level: 0.05\n",
      "Degree of Freedom: 1\n",
      "chi-square statistic: 17022.072400560897\n",
      "critical_value: 3.841458820694124\n",
      "p-value: 0.0\n",
      "Reject H0,There is a relationship between 2 categorical variables\n",
      "Reject H0,There is a relationship between 2 categorical variables\n"
     ]
    }
   ],
   "source": [
    "#checking if there any biases in the dataset\n",
    "contingency_tab=pd.crosstab(train['r4t3'],train['hogar_total'])\n",
    "observed_values =contingency_tab.values\n",
    "import scipy.stats\n",
    "b=scipy.stats.chi2_contingency(contingency_tab)\n",
    "Expected_values=b[3]\n",
    "no_of_rows=len(contingency_tab.iloc[0:2,0])\n",
    "no_of_columns=len(contingency_tab.iloc[0,0:2])\n",
    "df=(no_of_rows-1)*(no_of_columns-1)\n",
    "print(\"Degree of Freedom:-\",df)\n",
    "from scipy.stats import chi2\n",
    "chi_square=sum([(o-e)**2./e for o,e in zip(observed_values,Expected_values)])\n",
    "chi_square_statistic=chi_square[0]+chi_square[1]\n",
    "print(\"chi-square statistic:-\",chi_square_statistic)\n",
    "alpha=0.05\n",
    "critical_value=chi2.ppf(q=1-alpha,df=df)\n",
    "print(\"critical_value:\",critical_value)\n",
    "p_value=1-chi2.cdf(x=chi_square_statistic,df=df)\n",
    "print('p-value:',p_value)\n",
    "print('Significance level:',alpha)\n",
    "print('Degree of Freedom:',df)\n",
    "print('chi-square statistic:',chi_square_statistic)\n",
    "print('critical_value:',critical_value)\n",
    "print('p-value:',p_value)\n",
    "if chi_square_statistic>=critical_value:\n",
    "    print(\"Reject H0,There is a relationship between 2 categorical variables\")\n",
    "else:\n",
    "    print(\"Retain H0,There is no relationship between 2 categorical variables\")\n",
    "if p_value<=alpha:\n",
    "    print(\"Reject H0,There is a relationship between 2 categorical variables\") \n",
    "else:\n",
    "    print(\"Retain H0,There is no relationship between 2 categorical variables\")"
   ]
  },
  {
   "cell_type": "code",
   "execution_count": 134,
   "id": "cdf3d45d",
   "metadata": {},
   "outputs": [
    {
     "name": "stdout",
     "output_type": "stream",
     "text": [
      "Degree of Freedom:- 1\n",
      "chi-square statistic:- 54.04781105990782\n",
      "critical_value: 3.841458820694124\n",
      "p-value: 1.9562129693895258e-13\n",
      "Significance level:  0.05\n",
      "Degree of Freedom:  1\n",
      "chi-square statistic: 54.04781105990782\n",
      "critical_value: 3.841458820694124\n",
      "p-value: 1.9562129693895258e-13\n",
      "Reject H0,There is a relationship between 2 categorical variables\n",
      "Reject H0,There is a relationship between 2 categorical variables\n"
     ]
    }
   ],
   "source": [
    "contingency_tab=pd.crosstab(train['tipovivi3'],train['v2a1'])\n",
    "Observed_Values=contingency_tab.values\n",
    "import scipy.stats\n",
    "b=scipy.stats.chi2_contingency(contingency_tab)\n",
    "Expected_Values = b[3]\n",
    "no_of_rows=len(contingency_tab.iloc[0:2,0])\n",
    "no_of_columns=len(contingency_tab.iloc[0,0:2])\n",
    "df=(no_of_rows-1)*(no_of_columns-1)\n",
    "print(\"Degree of Freedom:-\",df)\n",
    "from scipy.stats import chi2\n",
    "chi_square=sum([(o-e)**2./e for o,e in zip(Observed_Values,Expected_Values)])\n",
    "chi_square_statistic=chi_square[0]+chi_square[1]\n",
    "print(\"chi-square statistic:-\",chi_square_statistic)\n",
    "alpha=0.05\n",
    "critical_value=chi2.ppf(q=1-alpha,df=df)\n",
    "print('critical_value:',critical_value)\n",
    "p_value=1-chi2.cdf(x=chi_square_statistic,df=df)\n",
    "print('p-value:',p_value)\n",
    "print('Significance level: ',alpha)\n",
    "print('Degree of Freedom: ',df)\n",
    "print('chi-square statistic:',chi_square_statistic)\n",
    "print('critical_value:',critical_value)\n",
    "print('p-value:',p_value)\n",
    "if chi_square_statistic>=critical_value:\n",
    "    print(\"Reject H0,There is a relationship between 2 categorical variables\")\n",
    "else:\n",
    "    print(\"Retain H0,There is no relationship between 2 categorical variables\")\n",
    "    \n",
    "if p_value<=alpha:\n",
    "    print(\"Reject H0,There is a relationship between 2 categorical variables\")\n",
    "else:\n",
    "    print(\"Retain H0,There is no relationship between 2 categorical variables\")"
   ]
  },
  {
   "cell_type": "code",
   "execution_count": 135,
   "id": "ed534cf5",
   "metadata": {},
   "outputs": [
    {
     "name": "stdout",
     "output_type": "stream",
     "text": [
      "Degree of Freedom:- 0\n",
      "chi-square statistic:- 0.0\n",
      "critical_value: nan\n",
      "p-value: nan\n",
      "Significance level:  0.05\n",
      "Degree of Freedom:  0\n",
      "chi-square statistic: 0.0\n",
      "critical_value: nan\n",
      "p-value: nan\n",
      "Retain H0,There is no relationship between 2 categorical variables\n",
      "Retain H0,There is no relationship between 2 categorical variables\n"
     ]
    }
   ],
   "source": [
    "contingency_tab=pd.crosstab(train['v18q'],train['v18q1'])\n",
    "Observed_Values=contingency_tab.values\n",
    "import scipy.stats\n",
    "b=scipy.stats.chi2_contingency(contingency_tab)\n",
    "Expected_Values = b[3]\n",
    "no_of_rows=len(contingency_tab.iloc[0:2,0])\n",
    "no_of_columns=len(contingency_tab.iloc[0,0:2])\n",
    "df=(no_of_rows-1)*(no_of_columns-1)\n",
    "print(\"Degree of Freedom:-\",df)\n",
    "from scipy.stats import chi2\n",
    "chi_square=sum([(o-e)**2./e for o,e in zip(Observed_Values,Expected_Values)])\n",
    "chi_square_statistic=chi_square[0]+chi_square[1]\n",
    "print(\"chi-square statistic:-\",chi_square_statistic)\n",
    "alpha=0.05\n",
    "critical_value=chi2.ppf(q=1-alpha,df=df)\n",
    "print('critical_value:',critical_value)\n",
    "p_value=1-chi2.cdf(x=chi_square_statistic,df=df)\n",
    "print('p-value:',p_value)\n",
    "print('Significance level: ',alpha)\n",
    "print('Degree of Freedom: ',df)\n",
    "print('chi-square statistic:',chi_square_statistic)\n",
    "print('critical_value:',critical_value)\n",
    "print('p-value:',p_value)\n",
    "if chi_square_statistic>=critical_value:\n",
    "    print(\"Reject H0,There is a relationship between 2 categorical variables\")\n",
    "else:\n",
    "    print(\"Retain H0,There is no relationship between 2 categorical variables\")\n",
    "    \n",
    "if p_value<=alpha:\n",
    "    print(\"Reject H0,There is a relationship between 2 categorical variables\")\n",
    "else:\n",
    "    print(\"Retain H0,There is no relationship between 2 categorical variables\")"
   ]
  },
  {
   "cell_type": "markdown",
   "id": "7ae93879",
   "metadata": {},
   "source": [
    "Therefore,variables ('v18q','v18q1') have relationship between them. For good result we can use any one of them."
   ]
  },
  {
   "cell_type": "markdown",
   "id": "8ba6cc74",
   "metadata": {},
   "source": [
    " Therefore, there is bias in our dataset."
   ]
  },
  {
   "cell_type": "code",
   "execution_count": 136,
   "id": "04776bea",
   "metadata": {},
   "outputs": [],
   "source": [
    "train.drop('r4t3',axis=1,inplace=True)"
   ]
  },
  {
   "cell_type": "markdown",
   "id": "9ed250b3",
   "metadata": {},
   "source": [
    "Checking if there is a house without a family head.\n",
    "\"parentesco1\" =1 if household head"
   ]
  },
  {
   "cell_type": "code",
   "execution_count": 137,
   "id": "63f0e14e",
   "metadata": {},
   "outputs": [
    {
     "data": {
      "text/plain": [
       "0    6584\n",
       "1    2973\n",
       "Name: parentesco1, dtype: int64"
      ]
     },
     "execution_count": 137,
     "metadata": {},
     "output_type": "execute_result"
    }
   ],
   "source": [
    "train.parentesco1.value_counts()"
   ]
  },
  {
   "cell_type": "code",
   "execution_count": 138,
   "id": "4fd4ee18",
   "metadata": {
    "scrolled": true
   },
   "outputs": [
    {
     "data": {
      "text/html": [
       "<div>\n",
       "<style scoped>\n",
       "    .dataframe tbody tr th:only-of-type {\n",
       "        vertical-align: middle;\n",
       "    }\n",
       "\n",
       "    .dataframe tbody tr th {\n",
       "        vertical-align: top;\n",
       "    }\n",
       "\n",
       "    .dataframe thead th {\n",
       "        text-align: right;\n",
       "    }\n",
       "</style>\n",
       "<table border=\"1\" class=\"dataframe\">\n",
       "  <thead>\n",
       "    <tr style=\"text-align: right;\">\n",
       "      <th>edjefe</th>\n",
       "      <th>0.0</th>\n",
       "      <th>1.0</th>\n",
       "      <th>2.0</th>\n",
       "      <th>3.0</th>\n",
       "      <th>4.0</th>\n",
       "      <th>5.0</th>\n",
       "      <th>6.0</th>\n",
       "      <th>7.0</th>\n",
       "      <th>8.0</th>\n",
       "      <th>9.0</th>\n",
       "      <th>...</th>\n",
       "      <th>12.0</th>\n",
       "      <th>13.0</th>\n",
       "      <th>14.0</th>\n",
       "      <th>15.0</th>\n",
       "      <th>16.0</th>\n",
       "      <th>17.0</th>\n",
       "      <th>18.0</th>\n",
       "      <th>19.0</th>\n",
       "      <th>20.0</th>\n",
       "      <th>21.0</th>\n",
       "    </tr>\n",
       "    <tr>\n",
       "      <th>edjefa</th>\n",
       "      <th></th>\n",
       "      <th></th>\n",
       "      <th></th>\n",
       "      <th></th>\n",
       "      <th></th>\n",
       "      <th></th>\n",
       "      <th></th>\n",
       "      <th></th>\n",
       "      <th></th>\n",
       "      <th></th>\n",
       "      <th></th>\n",
       "      <th></th>\n",
       "      <th></th>\n",
       "      <th></th>\n",
       "      <th></th>\n",
       "      <th></th>\n",
       "      <th></th>\n",
       "      <th></th>\n",
       "      <th></th>\n",
       "      <th></th>\n",
       "      <th></th>\n",
       "    </tr>\n",
       "  </thead>\n",
       "  <tbody>\n",
       "    <tr>\n",
       "      <th>0.0</th>\n",
       "      <td>435</td>\n",
       "      <td>123</td>\n",
       "      <td>194</td>\n",
       "      <td>307</td>\n",
       "      <td>137</td>\n",
       "      <td>222</td>\n",
       "      <td>1845</td>\n",
       "      <td>234</td>\n",
       "      <td>257</td>\n",
       "      <td>486</td>\n",
       "      <td>...</td>\n",
       "      <td>113</td>\n",
       "      <td>103</td>\n",
       "      <td>208</td>\n",
       "      <td>285</td>\n",
       "      <td>134</td>\n",
       "      <td>202</td>\n",
       "      <td>19</td>\n",
       "      <td>14</td>\n",
       "      <td>7</td>\n",
       "      <td>43</td>\n",
       "    </tr>\n",
       "    <tr>\n",
       "      <th>1.0</th>\n",
       "      <td>69</td>\n",
       "      <td>0</td>\n",
       "      <td>0</td>\n",
       "      <td>0</td>\n",
       "      <td>0</td>\n",
       "      <td>0</td>\n",
       "      <td>0</td>\n",
       "      <td>0</td>\n",
       "      <td>0</td>\n",
       "      <td>0</td>\n",
       "      <td>...</td>\n",
       "      <td>0</td>\n",
       "      <td>0</td>\n",
       "      <td>0</td>\n",
       "      <td>0</td>\n",
       "      <td>0</td>\n",
       "      <td>0</td>\n",
       "      <td>0</td>\n",
       "      <td>0</td>\n",
       "      <td>0</td>\n",
       "      <td>0</td>\n",
       "    </tr>\n",
       "    <tr>\n",
       "      <th>2.0</th>\n",
       "      <td>84</td>\n",
       "      <td>0</td>\n",
       "      <td>0</td>\n",
       "      <td>0</td>\n",
       "      <td>0</td>\n",
       "      <td>0</td>\n",
       "      <td>0</td>\n",
       "      <td>0</td>\n",
       "      <td>0</td>\n",
       "      <td>0</td>\n",
       "      <td>...</td>\n",
       "      <td>0</td>\n",
       "      <td>0</td>\n",
       "      <td>0</td>\n",
       "      <td>0</td>\n",
       "      <td>0</td>\n",
       "      <td>0</td>\n",
       "      <td>0</td>\n",
       "      <td>0</td>\n",
       "      <td>0</td>\n",
       "      <td>0</td>\n",
       "    </tr>\n",
       "    <tr>\n",
       "      <th>3.0</th>\n",
       "      <td>152</td>\n",
       "      <td>0</td>\n",
       "      <td>0</td>\n",
       "      <td>0</td>\n",
       "      <td>0</td>\n",
       "      <td>0</td>\n",
       "      <td>0</td>\n",
       "      <td>0</td>\n",
       "      <td>0</td>\n",
       "      <td>0</td>\n",
       "      <td>...</td>\n",
       "      <td>0</td>\n",
       "      <td>0</td>\n",
       "      <td>0</td>\n",
       "      <td>0</td>\n",
       "      <td>0</td>\n",
       "      <td>0</td>\n",
       "      <td>0</td>\n",
       "      <td>0</td>\n",
       "      <td>0</td>\n",
       "      <td>0</td>\n",
       "    </tr>\n",
       "    <tr>\n",
       "      <th>4.0</th>\n",
       "      <td>136</td>\n",
       "      <td>0</td>\n",
       "      <td>0</td>\n",
       "      <td>0</td>\n",
       "      <td>0</td>\n",
       "      <td>0</td>\n",
       "      <td>0</td>\n",
       "      <td>0</td>\n",
       "      <td>0</td>\n",
       "      <td>0</td>\n",
       "      <td>...</td>\n",
       "      <td>0</td>\n",
       "      <td>0</td>\n",
       "      <td>0</td>\n",
       "      <td>0</td>\n",
       "      <td>0</td>\n",
       "      <td>0</td>\n",
       "      <td>0</td>\n",
       "      <td>0</td>\n",
       "      <td>0</td>\n",
       "      <td>0</td>\n",
       "    </tr>\n",
       "    <tr>\n",
       "      <th>5.0</th>\n",
       "      <td>176</td>\n",
       "      <td>0</td>\n",
       "      <td>0</td>\n",
       "      <td>0</td>\n",
       "      <td>0</td>\n",
       "      <td>0</td>\n",
       "      <td>0</td>\n",
       "      <td>0</td>\n",
       "      <td>0</td>\n",
       "      <td>0</td>\n",
       "      <td>...</td>\n",
       "      <td>0</td>\n",
       "      <td>0</td>\n",
       "      <td>0</td>\n",
       "      <td>0</td>\n",
       "      <td>0</td>\n",
       "      <td>0</td>\n",
       "      <td>0</td>\n",
       "      <td>0</td>\n",
       "      <td>0</td>\n",
       "      <td>0</td>\n",
       "    </tr>\n",
       "    <tr>\n",
       "      <th>6.0</th>\n",
       "      <td>947</td>\n",
       "      <td>0</td>\n",
       "      <td>0</td>\n",
       "      <td>0</td>\n",
       "      <td>0</td>\n",
       "      <td>0</td>\n",
       "      <td>0</td>\n",
       "      <td>0</td>\n",
       "      <td>0</td>\n",
       "      <td>0</td>\n",
       "      <td>...</td>\n",
       "      <td>0</td>\n",
       "      <td>0</td>\n",
       "      <td>0</td>\n",
       "      <td>0</td>\n",
       "      <td>0</td>\n",
       "      <td>0</td>\n",
       "      <td>0</td>\n",
       "      <td>0</td>\n",
       "      <td>0</td>\n",
       "      <td>0</td>\n",
       "    </tr>\n",
       "    <tr>\n",
       "      <th>7.0</th>\n",
       "      <td>179</td>\n",
       "      <td>0</td>\n",
       "      <td>0</td>\n",
       "      <td>0</td>\n",
       "      <td>0</td>\n",
       "      <td>0</td>\n",
       "      <td>0</td>\n",
       "      <td>0</td>\n",
       "      <td>0</td>\n",
       "      <td>0</td>\n",
       "      <td>...</td>\n",
       "      <td>0</td>\n",
       "      <td>0</td>\n",
       "      <td>0</td>\n",
       "      <td>0</td>\n",
       "      <td>0</td>\n",
       "      <td>0</td>\n",
       "      <td>0</td>\n",
       "      <td>0</td>\n",
       "      <td>0</td>\n",
       "      <td>0</td>\n",
       "    </tr>\n",
       "    <tr>\n",
       "      <th>8.0</th>\n",
       "      <td>217</td>\n",
       "      <td>0</td>\n",
       "      <td>0</td>\n",
       "      <td>0</td>\n",
       "      <td>0</td>\n",
       "      <td>0</td>\n",
       "      <td>0</td>\n",
       "      <td>0</td>\n",
       "      <td>0</td>\n",
       "      <td>0</td>\n",
       "      <td>...</td>\n",
       "      <td>0</td>\n",
       "      <td>0</td>\n",
       "      <td>0</td>\n",
       "      <td>0</td>\n",
       "      <td>0</td>\n",
       "      <td>0</td>\n",
       "      <td>0</td>\n",
       "      <td>0</td>\n",
       "      <td>0</td>\n",
       "      <td>0</td>\n",
       "    </tr>\n",
       "    <tr>\n",
       "      <th>9.0</th>\n",
       "      <td>237</td>\n",
       "      <td>0</td>\n",
       "      <td>0</td>\n",
       "      <td>0</td>\n",
       "      <td>0</td>\n",
       "      <td>0</td>\n",
       "      <td>0</td>\n",
       "      <td>0</td>\n",
       "      <td>0</td>\n",
       "      <td>0</td>\n",
       "      <td>...</td>\n",
       "      <td>0</td>\n",
       "      <td>0</td>\n",
       "      <td>0</td>\n",
       "      <td>0</td>\n",
       "      <td>0</td>\n",
       "      <td>0</td>\n",
       "      <td>0</td>\n",
       "      <td>0</td>\n",
       "      <td>0</td>\n",
       "      <td>0</td>\n",
       "    </tr>\n",
       "    <tr>\n",
       "      <th>10.0</th>\n",
       "      <td>96</td>\n",
       "      <td>0</td>\n",
       "      <td>0</td>\n",
       "      <td>0</td>\n",
       "      <td>0</td>\n",
       "      <td>0</td>\n",
       "      <td>0</td>\n",
       "      <td>0</td>\n",
       "      <td>0</td>\n",
       "      <td>0</td>\n",
       "      <td>...</td>\n",
       "      <td>0</td>\n",
       "      <td>0</td>\n",
       "      <td>0</td>\n",
       "      <td>0</td>\n",
       "      <td>0</td>\n",
       "      <td>0</td>\n",
       "      <td>0</td>\n",
       "      <td>0</td>\n",
       "      <td>0</td>\n",
       "      <td>0</td>\n",
       "    </tr>\n",
       "    <tr>\n",
       "      <th>11.0</th>\n",
       "      <td>399</td>\n",
       "      <td>0</td>\n",
       "      <td>0</td>\n",
       "      <td>0</td>\n",
       "      <td>0</td>\n",
       "      <td>0</td>\n",
       "      <td>0</td>\n",
       "      <td>0</td>\n",
       "      <td>0</td>\n",
       "      <td>0</td>\n",
       "      <td>...</td>\n",
       "      <td>0</td>\n",
       "      <td>0</td>\n",
       "      <td>0</td>\n",
       "      <td>0</td>\n",
       "      <td>0</td>\n",
       "      <td>0</td>\n",
       "      <td>0</td>\n",
       "      <td>0</td>\n",
       "      <td>0</td>\n",
       "      <td>0</td>\n",
       "    </tr>\n",
       "    <tr>\n",
       "      <th>12.0</th>\n",
       "      <td>72</td>\n",
       "      <td>0</td>\n",
       "      <td>0</td>\n",
       "      <td>0</td>\n",
       "      <td>0</td>\n",
       "      <td>0</td>\n",
       "      <td>0</td>\n",
       "      <td>0</td>\n",
       "      <td>0</td>\n",
       "      <td>0</td>\n",
       "      <td>...</td>\n",
       "      <td>0</td>\n",
       "      <td>0</td>\n",
       "      <td>0</td>\n",
       "      <td>0</td>\n",
       "      <td>0</td>\n",
       "      <td>0</td>\n",
       "      <td>0</td>\n",
       "      <td>0</td>\n",
       "      <td>0</td>\n",
       "      <td>0</td>\n",
       "    </tr>\n",
       "    <tr>\n",
       "      <th>13.0</th>\n",
       "      <td>52</td>\n",
       "      <td>0</td>\n",
       "      <td>0</td>\n",
       "      <td>0</td>\n",
       "      <td>0</td>\n",
       "      <td>0</td>\n",
       "      <td>0</td>\n",
       "      <td>0</td>\n",
       "      <td>0</td>\n",
       "      <td>0</td>\n",
       "      <td>...</td>\n",
       "      <td>0</td>\n",
       "      <td>0</td>\n",
       "      <td>0</td>\n",
       "      <td>0</td>\n",
       "      <td>0</td>\n",
       "      <td>0</td>\n",
       "      <td>0</td>\n",
       "      <td>0</td>\n",
       "      <td>0</td>\n",
       "      <td>0</td>\n",
       "    </tr>\n",
       "    <tr>\n",
       "      <th>14.0</th>\n",
       "      <td>120</td>\n",
       "      <td>0</td>\n",
       "      <td>0</td>\n",
       "      <td>0</td>\n",
       "      <td>0</td>\n",
       "      <td>0</td>\n",
       "      <td>0</td>\n",
       "      <td>0</td>\n",
       "      <td>0</td>\n",
       "      <td>0</td>\n",
       "      <td>...</td>\n",
       "      <td>0</td>\n",
       "      <td>0</td>\n",
       "      <td>0</td>\n",
       "      <td>0</td>\n",
       "      <td>0</td>\n",
       "      <td>0</td>\n",
       "      <td>0</td>\n",
       "      <td>0</td>\n",
       "      <td>0</td>\n",
       "      <td>0</td>\n",
       "    </tr>\n",
       "    <tr>\n",
       "      <th>15.0</th>\n",
       "      <td>188</td>\n",
       "      <td>0</td>\n",
       "      <td>0</td>\n",
       "      <td>0</td>\n",
       "      <td>0</td>\n",
       "      <td>0</td>\n",
       "      <td>0</td>\n",
       "      <td>0</td>\n",
       "      <td>0</td>\n",
       "      <td>0</td>\n",
       "      <td>...</td>\n",
       "      <td>0</td>\n",
       "      <td>0</td>\n",
       "      <td>0</td>\n",
       "      <td>0</td>\n",
       "      <td>0</td>\n",
       "      <td>0</td>\n",
       "      <td>0</td>\n",
       "      <td>0</td>\n",
       "      <td>0</td>\n",
       "      <td>0</td>\n",
       "    </tr>\n",
       "    <tr>\n",
       "      <th>16.0</th>\n",
       "      <td>113</td>\n",
       "      <td>0</td>\n",
       "      <td>0</td>\n",
       "      <td>0</td>\n",
       "      <td>0</td>\n",
       "      <td>0</td>\n",
       "      <td>0</td>\n",
       "      <td>0</td>\n",
       "      <td>0</td>\n",
       "      <td>0</td>\n",
       "      <td>...</td>\n",
       "      <td>0</td>\n",
       "      <td>0</td>\n",
       "      <td>0</td>\n",
       "      <td>0</td>\n",
       "      <td>0</td>\n",
       "      <td>0</td>\n",
       "      <td>0</td>\n",
       "      <td>0</td>\n",
       "      <td>0</td>\n",
       "      <td>0</td>\n",
       "    </tr>\n",
       "    <tr>\n",
       "      <th>17.0</th>\n",
       "      <td>76</td>\n",
       "      <td>0</td>\n",
       "      <td>0</td>\n",
       "      <td>0</td>\n",
       "      <td>0</td>\n",
       "      <td>0</td>\n",
       "      <td>0</td>\n",
       "      <td>0</td>\n",
       "      <td>0</td>\n",
       "      <td>0</td>\n",
       "      <td>...</td>\n",
       "      <td>0</td>\n",
       "      <td>0</td>\n",
       "      <td>0</td>\n",
       "      <td>0</td>\n",
       "      <td>0</td>\n",
       "      <td>0</td>\n",
       "      <td>0</td>\n",
       "      <td>0</td>\n",
       "      <td>0</td>\n",
       "      <td>0</td>\n",
       "    </tr>\n",
       "    <tr>\n",
       "      <th>18.0</th>\n",
       "      <td>3</td>\n",
       "      <td>0</td>\n",
       "      <td>0</td>\n",
       "      <td>0</td>\n",
       "      <td>0</td>\n",
       "      <td>0</td>\n",
       "      <td>0</td>\n",
       "      <td>0</td>\n",
       "      <td>0</td>\n",
       "      <td>0</td>\n",
       "      <td>...</td>\n",
       "      <td>0</td>\n",
       "      <td>0</td>\n",
       "      <td>0</td>\n",
       "      <td>0</td>\n",
       "      <td>0</td>\n",
       "      <td>0</td>\n",
       "      <td>0</td>\n",
       "      <td>0</td>\n",
       "      <td>0</td>\n",
       "      <td>0</td>\n",
       "    </tr>\n",
       "    <tr>\n",
       "      <th>19.0</th>\n",
       "      <td>4</td>\n",
       "      <td>0</td>\n",
       "      <td>0</td>\n",
       "      <td>0</td>\n",
       "      <td>0</td>\n",
       "      <td>0</td>\n",
       "      <td>0</td>\n",
       "      <td>0</td>\n",
       "      <td>0</td>\n",
       "      <td>0</td>\n",
       "      <td>...</td>\n",
       "      <td>0</td>\n",
       "      <td>0</td>\n",
       "      <td>0</td>\n",
       "      <td>0</td>\n",
       "      <td>0</td>\n",
       "      <td>0</td>\n",
       "      <td>0</td>\n",
       "      <td>0</td>\n",
       "      <td>0</td>\n",
       "      <td>0</td>\n",
       "    </tr>\n",
       "    <tr>\n",
       "      <th>20.0</th>\n",
       "      <td>2</td>\n",
       "      <td>0</td>\n",
       "      <td>0</td>\n",
       "      <td>0</td>\n",
       "      <td>0</td>\n",
       "      <td>0</td>\n",
       "      <td>0</td>\n",
       "      <td>0</td>\n",
       "      <td>0</td>\n",
       "      <td>0</td>\n",
       "      <td>...</td>\n",
       "      <td>0</td>\n",
       "      <td>0</td>\n",
       "      <td>0</td>\n",
       "      <td>0</td>\n",
       "      <td>0</td>\n",
       "      <td>0</td>\n",
       "      <td>0</td>\n",
       "      <td>0</td>\n",
       "      <td>0</td>\n",
       "      <td>0</td>\n",
       "    </tr>\n",
       "    <tr>\n",
       "      <th>21.0</th>\n",
       "      <td>5</td>\n",
       "      <td>0</td>\n",
       "      <td>0</td>\n",
       "      <td>0</td>\n",
       "      <td>0</td>\n",
       "      <td>0</td>\n",
       "      <td>0</td>\n",
       "      <td>0</td>\n",
       "      <td>0</td>\n",
       "      <td>0</td>\n",
       "      <td>...</td>\n",
       "      <td>0</td>\n",
       "      <td>0</td>\n",
       "      <td>0</td>\n",
       "      <td>0</td>\n",
       "      <td>0</td>\n",
       "      <td>0</td>\n",
       "      <td>0</td>\n",
       "      <td>0</td>\n",
       "      <td>0</td>\n",
       "      <td>0</td>\n",
       "    </tr>\n",
       "  </tbody>\n",
       "</table>\n",
       "<p>22 rows × 22 columns</p>\n",
       "</div>"
      ],
      "text/plain": [
       "edjefe  0.0   1.0   2.0   3.0   4.0   5.0   6.0   7.0   8.0   9.0   ...  12.0  \\\n",
       "edjefa                                                              ...         \n",
       "0.0      435   123   194   307   137   222  1845   234   257   486  ...   113   \n",
       "1.0       69     0     0     0     0     0     0     0     0     0  ...     0   \n",
       "2.0       84     0     0     0     0     0     0     0     0     0  ...     0   \n",
       "3.0      152     0     0     0     0     0     0     0     0     0  ...     0   \n",
       "4.0      136     0     0     0     0     0     0     0     0     0  ...     0   \n",
       "5.0      176     0     0     0     0     0     0     0     0     0  ...     0   \n",
       "6.0      947     0     0     0     0     0     0     0     0     0  ...     0   \n",
       "7.0      179     0     0     0     0     0     0     0     0     0  ...     0   \n",
       "8.0      217     0     0     0     0     0     0     0     0     0  ...     0   \n",
       "9.0      237     0     0     0     0     0     0     0     0     0  ...     0   \n",
       "10.0      96     0     0     0     0     0     0     0     0     0  ...     0   \n",
       "11.0     399     0     0     0     0     0     0     0     0     0  ...     0   \n",
       "12.0      72     0     0     0     0     0     0     0     0     0  ...     0   \n",
       "13.0      52     0     0     0     0     0     0     0     0     0  ...     0   \n",
       "14.0     120     0     0     0     0     0     0     0     0     0  ...     0   \n",
       "15.0     188     0     0     0     0     0     0     0     0     0  ...     0   \n",
       "16.0     113     0     0     0     0     0     0     0     0     0  ...     0   \n",
       "17.0      76     0     0     0     0     0     0     0     0     0  ...     0   \n",
       "18.0       3     0     0     0     0     0     0     0     0     0  ...     0   \n",
       "19.0       4     0     0     0     0     0     0     0     0     0  ...     0   \n",
       "20.0       2     0     0     0     0     0     0     0     0     0  ...     0   \n",
       "21.0       5     0     0     0     0     0     0     0     0     0  ...     0   \n",
       "\n",
       "edjefe  13.0  14.0  15.0  16.0  17.0  18.0  19.0  20.0  21.0  \n",
       "edjefa                                                        \n",
       "0.0      103   208   285   134   202    19    14     7    43  \n",
       "1.0        0     0     0     0     0     0     0     0     0  \n",
       "2.0        0     0     0     0     0     0     0     0     0  \n",
       "3.0        0     0     0     0     0     0     0     0     0  \n",
       "4.0        0     0     0     0     0     0     0     0     0  \n",
       "5.0        0     0     0     0     0     0     0     0     0  \n",
       "6.0        0     0     0     0     0     0     0     0     0  \n",
       "7.0        0     0     0     0     0     0     0     0     0  \n",
       "8.0        0     0     0     0     0     0     0     0     0  \n",
       "9.0        0     0     0     0     0     0     0     0     0  \n",
       "10.0       0     0     0     0     0     0     0     0     0  \n",
       "11.0       0     0     0     0     0     0     0     0     0  \n",
       "12.0       0     0     0     0     0     0     0     0     0  \n",
       "13.0       0     0     0     0     0     0     0     0     0  \n",
       "14.0       0     0     0     0     0     0     0     0     0  \n",
       "15.0       0     0     0     0     0     0     0     0     0  \n",
       "16.0       0     0     0     0     0     0     0     0     0  \n",
       "17.0       0     0     0     0     0     0     0     0     0  \n",
       "18.0       0     0     0     0     0     0     0     0     0  \n",
       "19.0       0     0     0     0     0     0     0     0     0  \n",
       "20.0       0     0     0     0     0     0     0     0     0  \n",
       "21.0       0     0     0     0     0     0     0     0     0  \n",
       "\n",
       "[22 rows x 22 columns]"
      ]
     },
     "execution_count": 138,
     "metadata": {},
     "output_type": "execute_result"
    }
   ],
   "source": [
    "pd.crosstab(train['edjefa'],train['edjefe'])"
   ]
  },
  {
   "cell_type": "markdown",
   "id": "6ff0bd9e",
   "metadata": {},
   "source": [
    "interpretation : Above cross tab shows 0 male head and 0 female head which implies that there are 435 families with no family head."
   ]
  },
  {
   "cell_type": "markdown",
   "id": "bd319519",
   "metadata": {},
   "source": [
    " Count how many null values are existing in columns."
   ]
  },
  {
   "cell_type": "code",
   "execution_count": 139,
   "id": "0192f02d",
   "metadata": {},
   "outputs": [
    {
     "data": {
      "text/plain": [
       "0       135\n",
       "5         2\n",
       "7342      1\n",
       "6860      1\n",
       "7928      1\n",
       "dtype: int64"
      ]
     },
     "execution_count": 139,
     "metadata": {},
     "output_type": "execute_result"
    }
   ],
   "source": [
    "train.isna().sum().value_counts()"
   ]
  },
  {
   "cell_type": "markdown",
   "id": "93c0e053",
   "metadata": {},
   "source": [
    "Identify number of null values in Target variable\n",
    "\n"
   ]
  },
  {
   "cell_type": "code",
   "execution_count": 140,
   "id": "3910bf57",
   "metadata": {},
   "outputs": [
    {
     "data": {
      "text/plain": [
       "0"
      ]
     },
     "execution_count": 140,
     "metadata": {},
     "output_type": "execute_result"
    }
   ],
   "source": [
    "train['Target'].isna().sum()"
   ]
  },
  {
   "cell_type": "code",
   "execution_count": 141,
   "id": "75ba6045",
   "metadata": {},
   "outputs": [
    {
     "name": "stdout",
     "output_type": "stream",
     "text": [
      "['v2a1', 'v18q1', 'rez_esc', 'dependency', 'edjefe', 'edjefa', 'meaneduc', 'overcrowding', 'SQBovercrowding', 'SQBdependency', 'SQBmeaned']\n"
     ]
    }
   ],
   "source": [
    "float_col=[]\n",
    "for i in train.columns:\n",
    "    a=train[i].dtype\n",
    "    if a=='float64':\n",
    "        float_col.append(i)\n",
    "print(float_col)        "
   ]
  },
  {
   "cell_type": "code",
   "execution_count": 142,
   "id": "f54d328e",
   "metadata": {},
   "outputs": [
    {
     "data": {
      "text/plain": [
       "v2a1               6860\n",
       "v18q1              7342\n",
       "rez_esc            7928\n",
       "dependency            0\n",
       "edjefe                0\n",
       "edjefa                0\n",
       "meaneduc              5\n",
       "overcrowding          0\n",
       "SQBovercrowding       0\n",
       "SQBdependency         0\n",
       "SQBmeaned             5\n",
       "dtype: int64"
      ]
     },
     "execution_count": 142,
     "metadata": {},
     "output_type": "execute_result"
    }
   ],
   "source": [
    "train[float_col].isna().sum()"
   ]
  },
  {
   "cell_type": "code",
   "execution_count": 143,
   "id": "3a08edac",
   "metadata": {},
   "outputs": [
    {
     "data": {
      "text/plain": [
       "v2a1               6860\n",
       "v18q1              7342\n",
       "rez_esc            7928\n",
       "dependency            0\n",
       "edjefe                0\n",
       "edjefa                0\n",
       "meaneduc              5\n",
       "overcrowding          0\n",
       "SQBovercrowding       0\n",
       "SQBdependency         0\n",
       "SQBmeaned             5\n",
       "dtype: int64"
      ]
     },
     "execution_count": 143,
     "metadata": {},
     "output_type": "execute_result"
    }
   ],
   "source": [
    "train[float_col].isna().sum()"
   ]
  },
  {
   "cell_type": "code",
   "execution_count": 144,
   "id": "d88a8730",
   "metadata": {},
   "outputs": [
    {
     "data": {
      "text/plain": [
       "1.0    1586\n",
       "2.0     444\n",
       "3.0     129\n",
       "4.0      37\n",
       "5.0      13\n",
       "6.0       6\n",
       "Name: v18q1, dtype: int64"
      ]
     },
     "execution_count": 144,
     "metadata": {},
     "output_type": "execute_result"
    }
   ],
   "source": [
    "train['v18q1'].value_counts()"
   ]
  },
  {
   "cell_type": "code",
   "execution_count": 145,
   "id": "a9b837b7",
   "metadata": {},
   "outputs": [
    {
     "data": {
      "text/html": [
       "<div>\n",
       "<style scoped>\n",
       "    .dataframe tbody tr th:only-of-type {\n",
       "        vertical-align: middle;\n",
       "    }\n",
       "\n",
       "    .dataframe tbody tr th {\n",
       "        vertical-align: top;\n",
       "    }\n",
       "\n",
       "    .dataframe thead th {\n",
       "        text-align: right;\n",
       "    }\n",
       "</style>\n",
       "<table border=\"1\" class=\"dataframe\">\n",
       "  <thead>\n",
       "    <tr style=\"text-align: right;\">\n",
       "      <th>v2a1</th>\n",
       "      <th>0.0</th>\n",
       "      <th>12000.0</th>\n",
       "      <th>13000.0</th>\n",
       "      <th>14000.0</th>\n",
       "      <th>15000.0</th>\n",
       "      <th>16000.0</th>\n",
       "      <th>17000.0</th>\n",
       "      <th>20000.0</th>\n",
       "      <th>23000.0</th>\n",
       "      <th>25000.0</th>\n",
       "      <th>...</th>\n",
       "      <th>570540.0</th>\n",
       "      <th>600000.0</th>\n",
       "      <th>620000.0</th>\n",
       "      <th>684648.0</th>\n",
       "      <th>700000.0</th>\n",
       "      <th>770229.0</th>\n",
       "      <th>800000.0</th>\n",
       "      <th>855810.0</th>\n",
       "      <th>1000000.0</th>\n",
       "      <th>2353477.0</th>\n",
       "    </tr>\n",
       "    <tr>\n",
       "      <th>tipovivi1</th>\n",
       "      <th></th>\n",
       "      <th></th>\n",
       "      <th></th>\n",
       "      <th></th>\n",
       "      <th></th>\n",
       "      <th></th>\n",
       "      <th></th>\n",
       "      <th></th>\n",
       "      <th></th>\n",
       "      <th></th>\n",
       "      <th></th>\n",
       "      <th></th>\n",
       "      <th></th>\n",
       "      <th></th>\n",
       "      <th></th>\n",
       "      <th></th>\n",
       "      <th></th>\n",
       "      <th></th>\n",
       "      <th></th>\n",
       "      <th></th>\n",
       "      <th></th>\n",
       "    </tr>\n",
       "  </thead>\n",
       "  <tbody>\n",
       "    <tr>\n",
       "      <th>0</th>\n",
       "      <td>29</td>\n",
       "      <td>3</td>\n",
       "      <td>4</td>\n",
       "      <td>3</td>\n",
       "      <td>3</td>\n",
       "      <td>2</td>\n",
       "      <td>4</td>\n",
       "      <td>22</td>\n",
       "      <td>5</td>\n",
       "      <td>21</td>\n",
       "      <td>...</td>\n",
       "      <td>25</td>\n",
       "      <td>11</td>\n",
       "      <td>3</td>\n",
       "      <td>3</td>\n",
       "      <td>7</td>\n",
       "      <td>3</td>\n",
       "      <td>4</td>\n",
       "      <td>11</td>\n",
       "      <td>7</td>\n",
       "      <td>2</td>\n",
       "    </tr>\n",
       "  </tbody>\n",
       "</table>\n",
       "<p>1 rows × 157 columns</p>\n",
       "</div>"
      ],
      "text/plain": [
       "v2a1       0.0        12000.0    13000.0    14000.0    15000.0    16000.0    \\\n",
       "tipovivi1                                                                     \n",
       "0                 29          3          4          3          3          2   \n",
       "\n",
       "v2a1       17000.0    20000.0    23000.0    25000.0    ...  570540.0   \\\n",
       "tipovivi1                                              ...              \n",
       "0                  4         22          5         21  ...         25   \n",
       "\n",
       "v2a1       600000.0   620000.0   684648.0   700000.0   770229.0   800000.0   \\\n",
       "tipovivi1                                                                     \n",
       "0                 11          3          3          7          3          4   \n",
       "\n",
       "v2a1       855810.0   1000000.0  2353477.0  \n",
       "tipovivi1                                   \n",
       "0                 11          7          2  \n",
       "\n",
       "[1 rows x 157 columns]"
      ]
     },
     "execution_count": 145,
     "metadata": {},
     "output_type": "execute_result"
    }
   ],
   "source": [
    "pd.crosstab(train['tipovivi1'],train['v2a1'])"
   ]
  },
  {
   "cell_type": "code",
   "execution_count": 146,
   "id": "9650223f",
   "metadata": {},
   "outputs": [
    {
     "data": {
      "text/html": [
       "<div>\n",
       "<style scoped>\n",
       "    .dataframe tbody tr th:only-of-type {\n",
       "        vertical-align: middle;\n",
       "    }\n",
       "\n",
       "    .dataframe tbody tr th {\n",
       "        vertical-align: top;\n",
       "    }\n",
       "\n",
       "    .dataframe thead th {\n",
       "        text-align: right;\n",
       "    }\n",
       "</style>\n",
       "<table border=\"1\" class=\"dataframe\">\n",
       "  <thead>\n",
       "    <tr style=\"text-align: right;\">\n",
       "      <th>v18q</th>\n",
       "      <th>1</th>\n",
       "    </tr>\n",
       "    <tr>\n",
       "      <th>v18q1</th>\n",
       "      <th></th>\n",
       "    </tr>\n",
       "  </thead>\n",
       "  <tbody>\n",
       "    <tr>\n",
       "      <th>1.0</th>\n",
       "      <td>1586</td>\n",
       "    </tr>\n",
       "    <tr>\n",
       "      <th>2.0</th>\n",
       "      <td>444</td>\n",
       "    </tr>\n",
       "    <tr>\n",
       "      <th>3.0</th>\n",
       "      <td>129</td>\n",
       "    </tr>\n",
       "    <tr>\n",
       "      <th>4.0</th>\n",
       "      <td>37</td>\n",
       "    </tr>\n",
       "    <tr>\n",
       "      <th>5.0</th>\n",
       "      <td>13</td>\n",
       "    </tr>\n",
       "    <tr>\n",
       "      <th>6.0</th>\n",
       "      <td>6</td>\n",
       "    </tr>\n",
       "  </tbody>\n",
       "</table>\n",
       "</div>"
      ],
      "text/plain": [
       "v18q      1\n",
       "v18q1      \n",
       "1.0    1586\n",
       "2.0     444\n",
       "3.0     129\n",
       "4.0      37\n",
       "5.0      13\n",
       "6.0       6"
      ]
     },
     "execution_count": 146,
     "metadata": {},
     "output_type": "execute_result"
    }
   ],
   "source": [
    "pd.crosstab(train['v18q1'],train['v18q'])"
   ]
  },
  {
   "cell_type": "markdown",
   "id": "c9478ebe",
   "metadata": {},
   "source": [
    "Interpretation and action : 'v2a1', 'v18q1', 'rez_esc' have more than 50% null values, because for v18q1, there are families with their own house so they won't pay rent in that case it should be 0 and similar is for v18q1 there can be families with 0 tablets.\n",
    "\n",
    "Istead we can drop a column tipovivi3,v18q\n",
    "\n",
    "tipovivi3, =1 rented\n",
    "v18q, owns a tablet\n",
    "as v2a1 alone can show both **as v18q1 alone can show that if respondent owns a tablet or not"
   ]
  },
  {
   "cell_type": "code",
   "execution_count": 147,
   "id": "9c1740cf",
   "metadata": {},
   "outputs": [],
   "source": [
    "train['v2a1'].fillna(0,inplace=True)\n",
    "train['v18q1'].fillna(0,inplace=True)"
   ]
  },
  {
   "cell_type": "code",
   "execution_count": 148,
   "id": "efc10de5",
   "metadata": {},
   "outputs": [],
   "source": [
    "train.drop(['tipovivi3','v18q','rez_esc','elimbasu5'],axis=1,inplace=True)"
   ]
  },
  {
   "cell_type": "code",
   "execution_count": 149,
   "id": "3cb84f57",
   "metadata": {},
   "outputs": [
    {
     "name": "stdout",
     "output_type": "stream",
     "text": [
      "<bound method IndexOpsMixin.value_counts of v2a1               0\n",
      "hacdor             0\n",
      "rooms              0\n",
      "hacapo             0\n",
      "v14a               0\n",
      "                  ..\n",
      "SQBovercrowding    0\n",
      "SQBdependency      0\n",
      "SQBmeaned          0\n",
      "agesq              0\n",
      "Target             0\n",
      "Length: 136, dtype: int64>\n"
     ]
    }
   ],
   "source": [
    "train['meaneduc'].fillna(np.mean(train['meaneduc']),inplace=True)\n",
    "train['SQBmeaned'].fillna(np.mean(train['SQBmeaned']),inplace=True)\n",
    "print(train.isna().sum().value_counts)"
   ]
  },
  {
   "cell_type": "code",
   "execution_count": 150,
   "id": "31673f46",
   "metadata": {},
   "outputs": [
    {
     "name": "stdout",
     "output_type": "stream",
     "text": [
      "['hacdor', 'rooms', 'hacapo', 'v14a', 'refrig', 'r4h1', 'r4h2', 'r4h3', 'r4m1', 'r4m2', 'r4m3', 'r4t1', 'r4t2', 'tamhog', 'tamviv', 'escolari', 'hhsize', 'paredblolad', 'paredzocalo', 'paredpreb', 'pareddes', 'paredmad', 'paredzinc', 'paredfibras', 'paredother', 'pisomoscer', 'pisocemento', 'pisoother', 'pisonatur', 'pisonotiene', 'pisomadera', 'techozinc', 'techoentrepiso', 'techocane', 'techootro', 'cielorazo', 'abastaguadentro', 'abastaguafuera', 'abastaguano', 'public', 'planpri', 'noelec', 'coopele', 'sanitario1', 'sanitario2', 'sanitario3', 'sanitario5', 'sanitario6', 'energcocinar1', 'energcocinar2', 'energcocinar3', 'energcocinar4', 'elimbasu1', 'elimbasu2', 'elimbasu3', 'elimbasu4', 'elimbasu6', 'epared1', 'epared2', 'epared3', 'etecho1', 'etecho2', 'etecho3', 'eviv1', 'eviv2', 'eviv3', 'dis', 'male', 'female', 'estadocivil1', 'estadocivil2', 'estadocivil3', 'estadocivil4', 'estadocivil5', 'estadocivil6', 'estadocivil7', 'parentesco1', 'parentesco2', 'parentesco3', 'parentesco4', 'parentesco5', 'parentesco6', 'parentesco7', 'parentesco8', 'parentesco9', 'parentesco10', 'parentesco11', 'parentesco12', 'hogar_nin', 'hogar_adul', 'hogar_mayor', 'hogar_total', 'instlevel1', 'instlevel2', 'instlevel3', 'instlevel4', 'instlevel5', 'instlevel6', 'instlevel7', 'instlevel8', 'instlevel9', 'bedrooms', 'tipovivi1', 'tipovivi2', 'tipovivi4', 'tipovivi5', 'computer', 'television', 'mobilephone', 'qmobilephone', 'lugar1', 'lugar2', 'lugar3', 'lugar4', 'lugar5', 'lugar6', 'area1', 'area2', 'age', 'SQBescolari', 'SQBage', 'SQBhogar_total', 'SQBedjefe', 'SQBhogar_nin', 'agesq', 'Target']\n"
     ]
    }
   ],
   "source": [
    "int_col=[]\n",
    "for i in train.columns:\n",
    "    a=train[i].dtype\n",
    "    if a=='int64':\n",
    "        int_col.append(i)\n",
    "print(int_col)        "
   ]
  },
  {
   "cell_type": "code",
   "execution_count": 151,
   "id": "0aa7cba0",
   "metadata": {},
   "outputs": [
    {
     "data": {
      "text/plain": [
       "0    126\n",
       "dtype: int64"
      ]
     },
     "execution_count": 151,
     "metadata": {},
     "output_type": "execute_result"
    }
   ],
   "source": [
    "train[int_col].isna().sum().value_counts()"
   ]
  },
  {
   "cell_type": "code",
   "execution_count": 152,
   "id": "af66c05d",
   "metadata": {},
   "outputs": [
    {
     "data": {
      "text/plain": [
       "4    5996\n",
       "2    1597\n",
       "3    1209\n",
       "1     755\n",
       "Name: Target, dtype: int64"
      ]
     },
     "execution_count": 152,
     "metadata": {},
     "output_type": "execute_result"
    }
   ],
   "source": [
    "train.Target.value_counts()"
   ]
  },
  {
   "cell_type": "markdown",
   "id": "30d27d81",
   "metadata": {},
   "source": [
    "Set the poverty level of the members and the head of the house same in a family.\n",
    "Now for people below poverty level can be people paying less rent and don't own a house. and it also depends on whether a house is in urban area or rural area."
   ]
  },
  {
   "cell_type": "code",
   "execution_count": 153,
   "id": "61852cd4",
   "metadata": {},
   "outputs": [],
   "source": [
    "Poverty_level=train[train['v2a1']!=0]"
   ]
  },
  {
   "cell_type": "code",
   "execution_count": 154,
   "id": "d71819d1",
   "metadata": {},
   "outputs": [
    {
     "data": {
      "text/plain": [
       "(2668, 136)"
      ]
     },
     "execution_count": 154,
     "metadata": {},
     "output_type": "execute_result"
    }
   ],
   "source": [
    "Poverty_level.shape"
   ]
  },
  {
   "cell_type": "code",
   "execution_count": 156,
   "id": "9ea6f059",
   "metadata": {},
   "outputs": [],
   "source": [
    "poverty_level=Poverty_level.groupby('area1')['v2a1'].apply(np.median)"
   ]
  },
  {
   "cell_type": "code",
   "execution_count": 157,
   "id": "0cfa86a0",
   "metadata": {},
   "outputs": [
    {
     "data": {
      "text/plain": [
       "area1\n",
       "0     80000.0\n",
       "1    140000.0\n",
       "Name: v2a1, dtype: float64"
      ]
     },
     "execution_count": 157,
     "metadata": {},
     "output_type": "execute_result"
    }
   ],
   "source": [
    "poverty_level"
   ]
  },
  {
   "cell_type": "markdown",
   "id": "cd6f6c4a",
   "metadata": {},
   "source": [
    "For rural area level if people paying rent less than 8000 is under poverty level.\n",
    "For Urban area level if people paying rent less than 140000 is under poverty level."
   ]
  },
  {
   "cell_type": "code",
   "execution_count": 158,
   "id": "6a4000d5",
   "metadata": {},
   "outputs": [],
   "source": [
    "def povert(x):\n",
    "    if x<8000:\n",
    "        return('Below poverty level')\n",
    "    \n",
    "    elif x>140000:\n",
    "        return('Above poverty level')\n",
    "    elif x<140000:\n",
    "        return('Below poverty level: Ur-ban ; Above poverty level : Rural ')"
   ]
  },
  {
   "cell_type": "code",
   "execution_count": 160,
   "id": "d75f88dc",
   "metadata": {},
   "outputs": [],
   "source": [
    "c= Poverty_level['v2a1'].apply(povert)"
   ]
  },
  {
   "cell_type": "code",
   "execution_count": 161,
   "id": "8670e945",
   "metadata": {},
   "outputs": [
    {
     "data": {
      "text/plain": [
       "(2668,)"
      ]
     },
     "execution_count": 161,
     "metadata": {},
     "output_type": "execute_result"
    }
   ],
   "source": [
    "c.shape"
   ]
  },
  {
   "cell_type": "code",
   "execution_count": 163,
   "id": "34b1b147",
   "metadata": {},
   "outputs": [
    {
     "data": {
      "text/html": [
       "<div>\n",
       "<style scoped>\n",
       "    .dataframe tbody tr th:only-of-type {\n",
       "        vertical-align: middle;\n",
       "    }\n",
       "\n",
       "    .dataframe tbody tr th {\n",
       "        vertical-align: top;\n",
       "    }\n",
       "\n",
       "    .dataframe thead th {\n",
       "        text-align: right;\n",
       "    }\n",
       "</style>\n",
       "<table border=\"1\" class=\"dataframe\">\n",
       "  <thead>\n",
       "    <tr style=\"text-align: right;\">\n",
       "      <th>area1</th>\n",
       "      <th>0</th>\n",
       "      <th>1</th>\n",
       "    </tr>\n",
       "    <tr>\n",
       "      <th>v2a1</th>\n",
       "      <th></th>\n",
       "      <th></th>\n",
       "    </tr>\n",
       "  </thead>\n",
       "  <tbody>\n",
       "    <tr>\n",
       "      <th>Above poverty level</th>\n",
       "      <td>139</td>\n",
       "      <td>1103</td>\n",
       "    </tr>\n",
       "    <tr>\n",
       "      <th>Below poverty level: Ur-ban ; Above poverty level : Rural</th>\n",
       "      <td>306</td>\n",
       "      <td>1081</td>\n",
       "    </tr>\n",
       "  </tbody>\n",
       "</table>\n",
       "</div>"
      ],
      "text/plain": [
       "area1                                                 0     1\n",
       "v2a1                                                         \n",
       "Above poverty level                                 139  1103\n",
       "Below poverty level: Ur-ban ; Above poverty lev...  306  1081"
      ]
     },
     "execution_count": 163,
     "metadata": {},
     "output_type": "execute_result"
    }
   ],
   "source": [
    "pd.crosstab(c,Poverty_level['area1'])"
   ]
  },
  {
   "cell_type": "markdown",
   "id": "9be5bbdb",
   "metadata": {},
   "source": [
    " Interpretation :\n",
    "\n",
    "There are total 1242 people above poverty level independent of area whether rural or Urban\n",
    "Remaining 1111 people level depends on their area\n",
    "Rural :\n",
    "\n",
    "Above poverty level= 445\n",
    "\n",
    "Urban :\n",
    "\n",
    "Above poverty level =1103\n",
    "\n",
    "Below poverty level=1081"
   ]
  },
  {
   "cell_type": "code",
   "execution_count": 167,
   "id": "392d77b4",
   "metadata": {},
   "outputs": [],
   "source": [
    "from sklearn.ensemble import RandomForestClassifier\n",
    "from sklearn.model_selection import train_test_split"
   ]
  },
  {
   "cell_type": "code",
   "execution_count": 168,
   "id": "895275e3",
   "metadata": {},
   "outputs": [],
   "source": [
    "x_data=train.drop('Target',axis=1)\n",
    "y_data=train.Target"
   ]
  },
  {
   "cell_type": "code",
   "execution_count": 169,
   "id": "e776bc46",
   "metadata": {},
   "outputs": [],
   "source": [
    "x_data_col=x_data.columns"
   ]
  },
  {
   "cell_type": "markdown",
   "id": "1711ecf2",
   "metadata": {},
   "source": [
    "Applying Standard Scalling to dataset"
   ]
  },
  {
   "cell_type": "code",
   "execution_count": 174,
   "id": "956e149f",
   "metadata": {},
   "outputs": [],
   "source": [
    "from sklearn.preprocessing import StandardScaler\n",
    "SS=StandardScaler()\n",
    "X_data_1=SS.fit_transform(X_data)\n",
    "X_data_1=pd.DataFrame(X_data_1,columns=X_data_col)"
   ]
  },
  {
   "cell_type": "code",
   "execution_count": 175,
   "id": "62754f73",
   "metadata": {},
   "outputs": [],
   "source": [
    "x_train,x_test,y_train,y_test=train_test_split(x_data_1,y_data,test_size=0.25,stratify=y_data,random_state=0)\n"
   ]
  },
  {
   "cell_type": "markdown",
   "id": "95b218c6",
   "metadata": {},
   "source": [
    " Lets identify best parameters for our model using GridSearchCv"
   ]
  },
  {
   "cell_type": "code",
   "execution_count": 178,
   "id": "730cc999",
   "metadata": {},
   "outputs": [
    {
     "name": "stdout",
     "output_type": "stream",
     "text": [
      "Best CV Score 0.8507046183898423\n",
      "Model Parameters {'max_depth': 15, 'n_estimators': 300}\n",
      "Best Estimator RandomForestClassifier(max_depth=15, n_estimators=300, random_state=0)\n"
     ]
    }
   ],
   "source": [
    "from sklearn.pipeline import Pipeline\n",
    "from sklearn.model_selection import GridSearchCV\n",
    "\n",
    "rfc=RandomForestClassifier(random_state=0)\n",
    "parameters={'n_estimators':[10,50,100,300],'max_depth':[3,5,10,15]}\n",
    "grid=zip([rfc],[parameters])\n",
    "\n",
    "best_=None\n",
    "\n",
    "for i, j in grid:\n",
    "    a=GridSearchCV(i,param_grid=j,cv=3,n_jobs=1)\n",
    "    a.fit(x_train,y_train)\n",
    "    if best_ is None:\n",
    "        best_=a\n",
    "    elif a.best_score_>best_.best_score_:\n",
    "        best_=a\n",
    "        \n",
    "        \n",
    "print (\"Best CV Score\",best_.best_score_)\n",
    "print (\"Model Parameters\",best_.best_params_)\n",
    "print(\"Best Estimator\",best_.best_estimator_)"
   ]
  },
  {
   "cell_type": "code",
   "execution_count": 179,
   "id": "5768c1f1",
   "metadata": {},
   "outputs": [],
   "source": [
    "RFC=best_.best_estimator_\n",
    "Model=RFC.fit(x_train,y_train)\n",
    "pred=Model.predict(x_test)"
   ]
  },
  {
   "cell_type": "code",
   "execution_count": 181,
   "id": "49aaa5df",
   "metadata": {},
   "outputs": [
    {
     "name": "stdout",
     "output_type": "stream",
     "text": [
      "Model Score of train data : 0.9831170643225896\n",
      "Model Score of test data : 0.8824267782426778\n"
     ]
    }
   ],
   "source": [
    "print('Model Score of train data : {}'.format(Model.score(x_train,y_train)))\n",
    "print('Model Score of test data : {}'.format(Model.score(x_test,y_test)))"
   ]
  },
  {
   "cell_type": "code",
   "execution_count": 182,
   "id": "d146318e",
   "metadata": {},
   "outputs": [],
   "source": [
    "Important_features=pd.DataFrame(Model.feature_importances_,x_data_col,columns=['feature_importance'])\n"
   ]
  },
  {
   "cell_type": "code",
   "execution_count": 187,
   "id": "b64e2688",
   "metadata": {},
   "outputs": [],
   "source": [
    "Top50Features=Important_features.sort_values(by='feature_importance',ascending=False).head(50).index"
   ]
  },
  {
   "cell_type": "code",
   "execution_count": 188,
   "id": "31001e16",
   "metadata": {},
   "outputs": [
    {
     "data": {
      "text/plain": [
       "Index(['SQBmeaned', 'meaneduc', 'SQBdependency', 'dependency', 'overcrowding',\n",
       "       'SQBovercrowding', 'qmobilephone', 'SQBhogar_nin', 'SQBedjefe',\n",
       "       'edjefe', 'hogar_nin', 'rooms', 'cielorazo', 'r4t1', 'v2a1', 'edjefa',\n",
       "       'agesq', 'r4m3', 'r4h2', 'SQBage', 'age', 'escolari', 'r4t2', 'r4h3',\n",
       "       'hogar_adul', 'SQBescolari', 'eviv3', 'bedrooms', 'r4m1', 'epared3',\n",
       "       'r4m2', 'tamviv', 'paredblolad', 'v18q1', 'SQBhogar_total', 'tamhog',\n",
       "       'hhsize', 'hogar_total', 'pisomoscer', 'etecho3', 'r4h1', 'lugar1',\n",
       "       'eviv2', 'tipovivi1', 'energcocinar2', 'energcocinar3', 'epared2',\n",
       "       'television', 'area2', 'area1'],\n",
       "      dtype='object')"
      ]
     },
     "execution_count": 188,
     "metadata": {},
     "output_type": "execute_result"
    }
   ],
   "source": [
    "Top50Features"
   ]
  },
  {
   "cell_type": "code",
   "execution_count": 189,
   "id": "843945e0",
   "metadata": {},
   "outputs": [],
   "source": [
    "for i in Top50Features:\n",
    "    if i not in x_data_col:\n",
    "        print(i)"
   ]
  },
  {
   "cell_type": "code",
   "execution_count": 190,
   "id": "980fefd4",
   "metadata": {},
   "outputs": [],
   "source": [
    "x_data_Top50=x_data[Top50Features]"
   ]
  },
  {
   "cell_type": "code",
   "execution_count": 191,
   "id": "ac5a23f5",
   "metadata": {},
   "outputs": [],
   "source": [
    "x_train,x_test,y_train,y_test=train_test_split(x_data_Top50,y_data,test_size=0.25,stratify=y_data,random_state=0)"
   ]
  },
  {
   "cell_type": "code",
   "execution_count": 192,
   "id": "cccc99ab",
   "metadata": {},
   "outputs": [],
   "source": [
    "Model_1=RFC.fit(x_train,y_train)\n",
    "pred=Model_1.predict(x_test)"
   ]
  },
  {
   "cell_type": "code",
   "execution_count": 193,
   "id": "75cbf005",
   "metadata": {},
   "outputs": [],
   "source": [
    "from sklearn.metrics import confusion_matrix,f1_score,accuracy_score"
   ]
  },
  {
   "cell_type": "code",
   "execution_count": 194,
   "id": "4a49d67b",
   "metadata": {},
   "outputs": [
    {
     "data": {
      "text/plain": [
       "array([[ 143,   17,    0,   29],\n",
       "       [   8,  324,    4,   63],\n",
       "       [   1,   12,  214,   75],\n",
       "       [   2,   10,    3, 1485]], dtype=int64)"
      ]
     },
     "execution_count": 194,
     "metadata": {},
     "output_type": "execute_result"
    }
   ],
   "source": [
    "confusion_matrix(y_test,pred)"
   ]
  },
  {
   "cell_type": "code",
   "execution_count": 195,
   "id": "f2949cfa",
   "metadata": {},
   "outputs": [
    {
     "data": {
      "text/plain": [
       "0.9026906492316511"
      ]
     },
     "execution_count": 195,
     "metadata": {},
     "output_type": "execute_result"
    }
   ],
   "source": [
    "f1_score(y_test,pred,average='weighted')\n"
   ]
  },
  {
   "cell_type": "code",
   "execution_count": 196,
   "id": "e5ad9982",
   "metadata": {},
   "outputs": [
    {
     "data": {
      "text/plain": [
       "0.906276150627615"
      ]
     },
     "execution_count": 196,
     "metadata": {},
     "output_type": "execute_result"
    }
   ],
   "source": [
    "accuracy_score(y_test,pred)"
   ]
  },
  {
   "cell_type": "markdown",
   "id": "83a07b85",
   "metadata": {},
   "source": [
    "Lets apply cleaning on test data and then find prediction for that."
   ]
  },
  {
   "cell_type": "code",
   "execution_count": 198,
   "id": "94a67542",
   "metadata": {},
   "outputs": [],
   "source": [
    "#lest drop ID variable.\n",
    "\n",
    "test.drop('r4t3',axis=1,inplace=True)\n",
    "test.drop(['Id','idhogar'],axis=1,inplace=True)\n",
    "test['dependency']=test['dependency'].apply(map)\n",
    "test['edjefe']=test['edjefe'].apply(map)\n",
    "test['edjefa']=test['edjefa'].apply(map)\n"
   ]
  },
  {
   "cell_type": "code",
   "execution_count": 199,
   "id": "cc181b66",
   "metadata": {},
   "outputs": [],
   "source": [
    "test['v2a1'].fillna(0,inplace=True)\n",
    "test['v18q1'].fillna(0,inplace=True)"
   ]
  },
  {
   "cell_type": "code",
   "execution_count": 201,
   "id": "108c319b",
   "metadata": {},
   "outputs": [],
   "source": [
    "test.drop(['tipovivi3','v18q','rez_esc','elimbasu5'],axis=1,inplace=True)"
   ]
  },
  {
   "cell_type": "code",
   "execution_count": 204,
   "id": "6ae458ba",
   "metadata": {},
   "outputs": [],
   "source": [
    "train['meaneduc'].fillna(np.mean(train['meaneduc']),inplace=True)\n",
    "train['SQBmeaned'].fillna(np.mean(train['SQBmeaned']),inplace=True)"
   ]
  },
  {
   "cell_type": "code",
   "execution_count": 205,
   "id": "3c649563",
   "metadata": {},
   "outputs": [],
   "source": [
    "test_data=test[Top50Features]"
   ]
  },
  {
   "cell_type": "code",
   "execution_count": 206,
   "id": "c5fa0e9d",
   "metadata": {},
   "outputs": [
    {
     "data": {
      "text/plain": [
       "0     48\n",
       "31     2\n",
       "dtype: int64"
      ]
     },
     "execution_count": 206,
     "metadata": {},
     "output_type": "execute_result"
    }
   ],
   "source": [
    "test_data.isna().sum().value_counts()"
   ]
  },
  {
   "cell_type": "code",
   "execution_count": 207,
   "id": "f2fc34d4",
   "metadata": {},
   "outputs": [],
   "source": [
    "test_data.SQBmeaned.fillna(np.mean(test_data['SQBmeaned']),inplace=True)\n",
    "test_data.meaneduc.fillna(np.mean(test_data['meaneduc']),inplace=True)"
   ]
  },
  {
   "cell_type": "code",
   "execution_count": 208,
   "id": "5ba48347",
   "metadata": {},
   "outputs": [],
   "source": [
    "Test_data_1=ss.fit_transform(test_data)\n",
    "x_data_1=pd.DataFrame(Test_data_1)"
   ]
  },
  {
   "cell_type": "code",
   "execution_count": 209,
   "id": "b2da4ab8",
   "metadata": {},
   "outputs": [],
   "source": [
    "test_prediction=Model_1.predict(test_data)"
   ]
  },
  {
   "cell_type": "code",
   "execution_count": 210,
   "id": "d0387138",
   "metadata": {},
   "outputs": [
    {
     "data": {
      "text/plain": [
       "array([4, 4, 4, ..., 4, 4, 4], dtype=int64)"
      ]
     },
     "execution_count": 210,
     "metadata": {},
     "output_type": "execute_result"
    }
   ],
   "source": [
    "test_prediction"
   ]
  },
  {
   "cell_type": "markdown",
   "id": "a1a0c388",
   "metadata": {},
   "source": [
    " Using RandomForest Classifier we can predict test_data with accuracy of 90%."
   ]
  }
 ],
 "metadata": {
  "kernelspec": {
   "display_name": "Python 3",
   "language": "python",
   "name": "python3"
  },
  "language_info": {
   "codemirror_mode": {
    "name": "ipython",
    "version": 3
   },
   "file_extension": ".py",
   "mimetype": "text/x-python",
   "name": "python",
   "nbconvert_exporter": "python",
   "pygments_lexer": "ipython3",
   "version": "3.8.8"
  }
 },
 "nbformat": 4,
 "nbformat_minor": 5
}
